{
 "cells": [
  {
   "cell_type": "code",
   "execution_count": 1,
   "metadata": {},
   "outputs": [
    {
     "name": "stdout",
     "output_type": "stream",
     "text": [
      "The no of pairs: 2\n"
     ]
    }
   ],
   "source": [
    "def count(List, Sum):\n",
    "    length_1 = len(List)\n",
    "    count = 0\n",
    "    #Iteration from each element two times and then return the count value to result\n",
    "    for i in range(length_1):\n",
    "        for j in range(i + 1, length_1):\n",
    "            if List[i] + List[j] == Sum:\n",
    "                count=count+1\n",
    "    return count\n",
    "#giving the list values and the sum\n",
    "List = [2, 7, 4, 1, 3, 6]\n",
    "Sum = 10\n",
    "#Calling the function\n",
    "Result =count(List, Sum)\n",
    "#printing the reslt\n",
    "print('The no of pairs:',Result)\n"
   ]
  },
  {
   "cell_type": "code",
   "execution_count": 3,
   "metadata": {},
   "outputs": [
    {
     "name": "stdout",
     "output_type": "stream",
     "text": [
      "[2, 2]\n",
      "[2, 2]\n"
     ]
    }
   ],
   "source": [
    "def matrix_multiplication(A, B):\n",
    "    Result_matrix = []\n",
    "    # each row i\n",
    "    for i in range(len(A)):\n",
    "        row = []\n",
    "        #each colum j\n",
    "        for j in range(len(B[0])):\n",
    "            #sum of product is stored in element \n",
    "            element = sum(A[i][k] * B[k][j] for k in range(len(A[0])))\n",
    "            row.append(element)\n",
    "        Result_matrix.append(row)\n",
    "    return Result_matrix\n",
    "\n",
    "def identity_matrix(size):\n",
    "    return [[1 if i == j else 0 for j in range(size)] for i in range(size)]\n",
    "#Computes the power of the matrix\n",
    "def power_of_matrix(matrix, power_m):\n",
    "    if len(matrix) != len(matrix[0]):\n",
    "        raise ValueError('Matrix should be of order nxn!')\n",
    "    \n",
    "    Result_matrix = identity_matrix(len(matrix))\n",
    "    current_power = power_m\n",
    "\n",
    "    while current_power > 0:\n",
    "        if current_power % 2 == 1:\n",
    "            Result_matrix = matrix_multiplication(Result_matrix, matrix)\n",
    "        matrix = matrix_multiplication(matrix, matrix)\n",
    "        current_power //= 2\n",
    "\n",
    "    return Result_matrix\n",
    "#Order of the matrix is stored in variable n, Matrix each is user typed and stored in avraible matrix, and power of the matrix is stored in m\n",
    "n = int(input(\"Matrix Dimension: \"))\n",
    "matrix = [[int(input(f\"Enter element ({i+1}, {j+1}): \")) for j in range(n)] for i in range(n)]\n",
    "power_m = int(input(\"Enter the power of matrix: \"))\n",
    "#function returned value is stored in result_matrix\n",
    "Result_matrix = power_of_matrix(matrix, power_m)\n",
    "#result matrix is printed \n",
    "for row in Result_matrix:\n",
    "    print(row)\n"
   ]
  },
  {
   "cell_type": "code",
   "execution_count": 4,
   "metadata": {},
   "outputs": [
    {
     "name": "stdout",
     "output_type": "stream",
     "text": [
      "The maximum occurred character is 'h' with count as 2\n"
     ]
    }
   ],
   "source": [
    "# Counting the no of occurrences of each character in a word and storing it in empty dictionry and returning the dictionary\n",
    "def Wordoccurance(word):\n",
    "    dict = {}\n",
    "    # Checking the character is present in the dictionary or not if yes the count is incremented\n",
    "    for character in word:\n",
    "        if character in dict:\n",
    "            dict[character] += 1\n",
    "        else:\n",
    "            #If the character is not present in the dictionary the count is set to 1\n",
    "            dict[character] = 1\n",
    "    return dict\n",
    "#finding the character which occured the most from Wordoccurance function\n",
    "def Maximumrepeated(dict):\n",
    "    maximumValue = 0\n",
    "    for key, value in dict.items():\n",
    "        if value > maximumValue:\n",
    "            maximumValue = value\n",
    "            maximumKey = key\n",
    "    return maximumValue, maximumKey\n",
    "#user input string is stored in variable word \n",
    "word = input(\"Enter the word: \")\n",
    "maximum_count, maximum_char = Maximumrepeated(Wordoccurance(word))\n",
    "print(f\"The maximum occurred character is '{maximum_char}' with count as {maximum_count}\")\n"
   ]
  },
  {
   "cell_type": "code",
   "execution_count": 3,
   "metadata": {},
   "outputs": [
    {
     "name": "stdout",
     "output_type": "stream",
     "text": [
      "the range between largest and smallest number is : 33\n"
     ]
    }
   ],
   "source": [
    "list=[]\n",
    "\n",
    "no_of_elements = int(input(\"Enter the number of elements in the list: \"))\n",
    "#Every user input value element is appended to the list\n",
    "def list_input(list,no_of_elements):\n",
    "    for i in range(0,no_of_elements):\n",
    "        element = int(input(f\"Enter the {i+1} element: \"))\n",
    "        list.append(element)\n",
    "    return list\n",
    "def range_list(list,no_of_elements):\n",
    "    #Checking if the number of elements is more than 3 or not\n",
    "    if(no_of_elements<=3):\n",
    "        \n",
    "        return \"Range determination is not possible\"\n",
    "    else:\n",
    "        list_input(list,no_of_elements)\n",
    "        #getting the max and min values in the list\n",
    "        Min = min(list)\n",
    "        Max = max(list)\n",
    "        #Returning the range between the max and min value \n",
    "        return Max-Min\n",
    "print(f\"the range between largest and smallest number is : {range_list(list,no_of_elements)}\")\n"
   ]
  }
 ],
 "metadata": {
  "kernelspec": {
   "display_name": "Python 3",
   "language": "python",
   "name": "python3"
  },
  "language_info": {
   "codemirror_mode": {
    "name": "ipython",
    "version": 3
   },
   "file_extension": ".py",
   "mimetype": "text/x-python",
   "name": "python",
   "nbconvert_exporter": "python",
   "pygments_lexer": "ipython3",
   "version": "3.11.7"
  }
 },
 "nbformat": 4,
 "nbformat_minor": 2
}
